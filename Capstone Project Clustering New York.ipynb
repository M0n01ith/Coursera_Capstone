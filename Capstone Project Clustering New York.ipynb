{
    "cells": [
        {
            "cell_type": "markdown",
            "metadata": {},
            "source": "<h1> Segmenting and Clustering Neighborhoods in Toronto"
        },
        {
            "cell_type": "markdown",
            "metadata": {
                "collapsed": true
            },
            "source": "Import necessary libraries and read the Table from Wikipedia into a new dataframe"
        },
        {
            "cell_type": "code",
            "execution_count": 4,
            "metadata": {},
            "outputs": [],
            "source": "import pandas as pd"
        },
        {
            "cell_type": "code",
            "execution_count": 6,
            "metadata": {},
            "outputs": [
                {
                    "data": {
                        "text/html": "<div>\n<style scoped>\n    .dataframe tbody tr th:only-of-type {\n        vertical-align: middle;\n    }\n\n    .dataframe tbody tr th {\n        vertical-align: top;\n    }\n\n    .dataframe thead th {\n        text-align: right;\n    }\n</style>\n<table border=\"1\" class=\"dataframe\">\n  <thead>\n    <tr style=\"text-align: right;\">\n      <th></th>\n      <th>Postal Code</th>\n      <th>Borough</th>\n      <th>Neighbourhood</th>\n    </tr>\n  </thead>\n  <tbody>\n    <tr>\n      <th>0</th>\n      <td>M1A</td>\n      <td>Not assigned</td>\n      <td>Not assigned</td>\n    </tr>\n    <tr>\n      <th>1</th>\n      <td>M2A</td>\n      <td>Not assigned</td>\n      <td>Not assigned</td>\n    </tr>\n    <tr>\n      <th>2</th>\n      <td>M3A</td>\n      <td>North York</td>\n      <td>Parkwoods</td>\n    </tr>\n    <tr>\n      <th>3</th>\n      <td>M4A</td>\n      <td>North York</td>\n      <td>Victoria Village</td>\n    </tr>\n    <tr>\n      <th>4</th>\n      <td>M5A</td>\n      <td>Downtown Toronto</td>\n      <td>Regent Park, Harbourfront</td>\n    </tr>\n  </tbody>\n</table>\n</div>",
                        "text/plain": "  Postal Code           Borough              Neighbourhood\n0         M1A      Not assigned               Not assigned\n1         M2A      Not assigned               Not assigned\n2         M3A        North York                  Parkwoods\n3         M4A        North York           Victoria Village\n4         M5A  Downtown Toronto  Regent Park, Harbourfront"
                    },
                    "execution_count": 6,
                    "metadata": {},
                    "output_type": "execute_result"
                }
            ],
            "source": "url = 'https://en.wikipedia.org/wiki/List_of_postal_codes_of_Canada:_M'\n\ndf_html = pd.read_html(url)\ndf = df_html[0]\ndf.head()"
        },
        {
            "cell_type": "markdown",
            "metadata": {},
            "source": "Check, if there are boroughs that have the value \"not assigned\" and drop these rows"
        },
        {
            "cell_type": "code",
            "execution_count": 7,
            "metadata": {},
            "outputs": [
                {
                    "data": {
                        "text/html": "<div>\n<style scoped>\n    .dataframe tbody tr th:only-of-type {\n        vertical-align: middle;\n    }\n\n    .dataframe tbody tr th {\n        vertical-align: top;\n    }\n\n    .dataframe thead th {\n        text-align: right;\n    }\n</style>\n<table border=\"1\" class=\"dataframe\">\n  <thead>\n    <tr style=\"text-align: right;\">\n      <th></th>\n      <th>Postal Code</th>\n      <th>Borough</th>\n      <th>Neighbourhood</th>\n    </tr>\n  </thead>\n  <tbody>\n    <tr>\n      <th>0</th>\n      <td>M3A</td>\n      <td>North York</td>\n      <td>Parkwoods</td>\n    </tr>\n    <tr>\n      <th>1</th>\n      <td>M4A</td>\n      <td>North York</td>\n      <td>Victoria Village</td>\n    </tr>\n    <tr>\n      <th>2</th>\n      <td>M5A</td>\n      <td>Downtown Toronto</td>\n      <td>Regent Park, Harbourfront</td>\n    </tr>\n    <tr>\n      <th>3</th>\n      <td>M6A</td>\n      <td>North York</td>\n      <td>Lawrence Manor, Lawrence Heights</td>\n    </tr>\n    <tr>\n      <th>4</th>\n      <td>M7A</td>\n      <td>Downtown Toronto</td>\n      <td>Queen's Park, Ontario Provincial Government</td>\n    </tr>\n  </tbody>\n</table>\n</div>",
                        "text/plain": "  Postal Code           Borough                                Neighbourhood\n0         M3A        North York                                    Parkwoods\n1         M4A        North York                             Victoria Village\n2         M5A  Downtown Toronto                    Regent Park, Harbourfront\n3         M6A        North York             Lawrence Manor, Lawrence Heights\n4         M7A  Downtown Toronto  Queen's Park, Ontario Provincial Government"
                    },
                    "execution_count": 7,
                    "metadata": {},
                    "output_type": "execute_result"
                }
            ],
            "source": "df_bor = df[df.Borough != \"Not assigned\"].reset_index(drop = True)\ndf_bor.head()"
        },
        {
            "cell_type": "markdown",
            "metadata": {},
            "source": "Check the Neigbourhood, if there is any Neighbourhodd that is not assigned and replace it with the assigned borough. The replaced counter is only to check the replaced neighborhoods."
        },
        {
            "cell_type": "code",
            "execution_count": 9,
            "metadata": {},
            "outputs": [
                {
                    "name": "stdout",
                    "output_type": "stream",
                    "text": "0\n"
                }
            ],
            "source": "replaced = 0\n\nfor i in range(len(df_bor)):\n    if df_bor[\"Borough\"][i] != \"Not assigned\" and df_bor[\"Neighbourhood\"][i] == \"Not assigned\":\n        df_bor[\"Neighbourhood\"][i].replace(\"Not assigned\", df_bor[\"Borough\"][i], inplace = True)\n        replaced += 1\n        \nprint(str(replaced))\n"
        },
        {
            "cell_type": "markdown",
            "metadata": {},
            "source": "Check, if more than one neighbourhood exists in one postal code area and group it"
        },
        {
            "cell_type": "code",
            "execution_count": 10,
            "metadata": {},
            "outputs": [],
            "source": "df_bor_grouped = df_bor.groupby(['Postal Code','Borough'], sort=False).agg(', '.join)\ndf_bor_grouped.reset_index(inplace=True)"
        },
        {
            "cell_type": "markdown",
            "metadata": {},
            "source": "Look at the shape of the cleaned dataset"
        },
        {
            "cell_type": "code",
            "execution_count": 11,
            "metadata": {},
            "outputs": [
                {
                    "data": {
                        "text/plain": "(103, 3)"
                    },
                    "execution_count": 11,
                    "metadata": {},
                    "output_type": "execute_result"
                }
            ],
            "source": "df_bor_grouped.shape"
        },
        {
            "cell_type": "markdown",
            "metadata": {},
            "source": "Import geospatial data from website"
        },
        {
            "cell_type": "code",
            "execution_count": 2,
            "metadata": {},
            "outputs": [
                {
                    "name": "stdout",
                    "output_type": "stream",
                    "text": "--2020-08-02 11:35:53--  http://cocl.us/Geospatial_data/Geospatial_Coordinates.csv\nResolving cocl.us (cocl.us)... 158.85.108.83, 169.48.113.194, 158.85.108.86\nConnecting to cocl.us (cocl.us)|158.85.108.83|:80... connected.\nHTTP request sent, awaiting response... 301 Moved Permanently\nLocation: https://cocl.us/Geospatial_data/Geospatial_Coordinates.csv [following]\n--2020-08-02 11:35:53--  https://cocl.us/Geospatial_data/Geospatial_Coordinates.csv\nConnecting to cocl.us (cocl.us)|158.85.108.83|:443... connected.\nHTTP request sent, awaiting response... 301 Moved Permanently\nLocation: https://ibm.box.com/shared/static/9afzr83pps4pwf2smjjcf1y5mvgb18rr.csv [following]\n--2020-08-02 11:35:56--  https://ibm.box.com/shared/static/9afzr83pps4pwf2smjjcf1y5mvgb18rr.csv\nResolving ibm.box.com (ibm.box.com)... 107.152.29.197\nConnecting to ibm.box.com (ibm.box.com)|107.152.29.197|:443... connected.\nHTTP request sent, awaiting response... 301 Moved Permanently\nLocation: /public/static/9afzr83pps4pwf2smjjcf1y5mvgb18rr.csv [following]\n--2020-08-02 11:35:56--  https://ibm.box.com/public/static/9afzr83pps4pwf2smjjcf1y5mvgb18rr.csv\nReusing existing connection to ibm.box.com:443.\nHTTP request sent, awaiting response... 301 Moved Permanently\nLocation: https://ibm.ent.box.com/public/static/9afzr83pps4pwf2smjjcf1y5mvgb18rr.csv [following]\n--2020-08-02 11:35:56--  https://ibm.ent.box.com/public/static/9afzr83pps4pwf2smjjcf1y5mvgb18rr.csv\nResolving ibm.ent.box.com (ibm.ent.box.com)... 185.235.236.201\nConnecting to ibm.ent.box.com (ibm.ent.box.com)|185.235.236.201|:443... connected.\nHTTP request sent, awaiting response... 302 Found\nLocation: https://public.boxcloud.com/d/1/b1!v5si1VaspFXBA3O3qYYlMA8uBafF6miItNazZqOC5lECNUhj0QuyNOMXxaN91yFi8uRy6ZmS29D9CVJKE0x9fgrs2dtEWLCBYFYDhacz9BPeg4JE7DvtD7fODTFunxU_WaVRFQLbuW5oFNObOa0c_ZJwxiZrvKK3s00A-BFhu3aOak-BHETAxLYYzpLo4Zc-BwfPMDPqZ6M6gIkYcjsTb2NxnvYV-y7y60X2zAaNojM87R879ed19zVFW2qOcOGZ08xR0nyNcJbYwtqFexuJLHWk9HbKnmGuskyMob5cU4tsG4lNmYjqyTSVZGw9215aEZWH0jzrhALKo6eEqzqPPK6vN-e0CfUTlAJKy04fr8mXtB9UOZjorjI_vRTg1l4282cZrmdveseXa549ENe9P9lVdF2UxXa2qbAsyBV105QWtXt2mPWD2CLQq8RcjKWYrefnrc0dUoXQ-Y92eP7hvhvKIXMWkbYCFlHiNgSm5-L7Yy-DAF9ZH27_ss29H_lkXOp88iaLIMs3IWS_U84AZv6B89GRt2eoO4xus2zhaP0UqfXa_Ajx39lBlOqJTeeYzbMRLxh4o2X0-tKNBZ7Ag6mrv3klDr9iZcW1G8ffXxbYAWhETMdQ2CMCsUnN8Fn_VZmQ4Fy3QV9sr6Q55HCnYwGdt3t7U31BNn-wpqOmI0__0awXgu059B6ocXgrPg-qNJ8QK04MOTbbP2qjchMk92f24nOfXX_kDKK5qWQJPd7DlOG6dbKI-CZ9s7vWk_cecXu59bZW75PRx9XUAjyKffBauec1UpCAQUI_yYTJ6hzo73GdmKHiURXUvU1a7VbYYl8B7CE-7jNU78PQ5PLB76WXHWiKcChk4x8Nk12d70NI0ooLTQKxSSdMGgZ5kuLT9yI7QBbni70xZYHJFpPxpbzM_q1ciqesVvdR0Yf4ZSjRzjxmPkW377THSNX5eg4WD48zULteeWhjdJZ58Mg_yFE9ue6Ym6BXuAYQSlxd9JyuzXi72-XxnUpyyQ8BFDytcMtXN1jU4mhXQ9q0BTPnkQkmtY_tFGGMt0nzDA_pwU2F5OBJ7f0EwwdkQlyLZDKu75RN_GLXCmeMJGJePT-GxiCt007Go9bbEk2RkZmeRpiBdWM1KaZVF3hgkAJ83AVsAHwUBmZkQJg6jPdPpy51ItGoJd043aXlefZ5oeXHLCgJhQhd7yJpCccobWnVIz-m4RPRUSnupqKdyyn0peC2Y4kWvKwGh706wPZzLnK_l8GgXBMdZFOoVSSlVZQoLbqrETQef07b4DBXEHttc217Ae5PNwNmajnvJHwOd4bSxs5L2ZCWJAVRtPZa3QlDDIaRxAKpUVhlGpwIXs2bPK6YO2dR-N16LyaEQZ7z9W10MmkVSUwnHvFUKkvJeYlKJMfU43B7S0E1XMuTT7g-KfZFRyCl1DH2n8xQeuNX8CiFIJJn1ME./download [following]\n--2020-08-02 11:35:57--  https://public.boxcloud.com/d/1/b1!v5si1VaspFXBA3O3qYYlMA8uBafF6miItNazZqOC5lECNUhj0QuyNOMXxaN91yFi8uRy6ZmS29D9CVJKE0x9fgrs2dtEWLCBYFYDhacz9BPeg4JE7DvtD7fODTFunxU_WaVRFQLbuW5oFNObOa0c_ZJwxiZrvKK3s00A-BFhu3aOak-BHETAxLYYzpLo4Zc-BwfPMDPqZ6M6gIkYcjsTb2NxnvYV-y7y60X2zAaNojM87R879ed19zVFW2qOcOGZ08xR0nyNcJbYwtqFexuJLHWk9HbKnmGuskyMob5cU4tsG4lNmYjqyTSVZGw9215aEZWH0jzrhALKo6eEqzqPPK6vN-e0CfUTlAJKy04fr8mXtB9UOZjorjI_vRTg1l4282cZrmdveseXa549ENe9P9lVdF2UxXa2qbAsyBV105QWtXt2mPWD2CLQq8RcjKWYrefnrc0dUoXQ-Y92eP7hvhvKIXMWkbYCFlHiNgSm5-L7Yy-DAF9ZH27_ss29H_lkXOp88iaLIMs3IWS_U84AZv6B89GRt2eoO4xus2zhaP0UqfXa_Ajx39lBlOqJTeeYzbMRLxh4o2X0-tKNBZ7Ag6mrv3klDr9iZcW1G8ffXxbYAWhETMdQ2CMCsUnN8Fn_VZmQ4Fy3QV9sr6Q55HCnYwGdt3t7U31BNn-wpqOmI0__0awXgu059B6ocXgrPg-qNJ8QK04MOTbbP2qjchMk92f24nOfXX_kDKK5qWQJPd7DlOG6dbKI-CZ9s7vWk_cecXu59bZW75PRx9XUAjyKffBauec1UpCAQUI_yYTJ6hzo73GdmKHiURXUvU1a7VbYYl8B7CE-7jNU78PQ5PLB76WXHWiKcChk4x8Nk12d70NI0ooLTQKxSSdMGgZ5kuLT9yI7QBbni70xZYHJFpPxpbzM_q1ciqesVvdR0Yf4ZSjRzjxmPkW377THSNX5eg4WD48zULteeWhjdJZ58Mg_yFE9ue6Ym6BXuAYQSlxd9JyuzXi72-XxnUpyyQ8BFDytcMtXN1jU4mhXQ9q0BTPnkQkmtY_tFGGMt0nzDA_pwU2F5OBJ7f0EwwdkQlyLZDKu75RN_GLXCmeMJGJePT-GxiCt007Go9bbEk2RkZmeRpiBdWM1KaZVF3hgkAJ83AVsAHwUBmZkQJg6jPdPpy51ItGoJd043aXlefZ5oeXHLCgJhQhd7yJpCccobWnVIz-m4RPRUSnupqKdyyn0peC2Y4kWvKwGh706wPZzLnK_l8GgXBMdZFOoVSSlVZQoLbqrETQef07b4DBXEHttc217Ae5PNwNmajnvJHwOd4bSxs5L2ZCWJAVRtPZa3QlDDIaRxAKpUVhlGpwIXs2bPK6YO2dR-N16LyaEQZ7z9W10MmkVSUwnHvFUKkvJeYlKJMfU43B7S0E1XMuTT7g-KfZFRyCl1DH2n8xQeuNX8CiFIJJn1ME./download\nResolving public.boxcloud.com (public.boxcloud.com)... 107.152.29.200\nConnecting to public.boxcloud.com (public.boxcloud.com)|107.152.29.200|:443... connected.\nHTTP request sent, awaiting response... 200 OK\nLength: 2891 (2.8K) [text/csv]\nSaving to: \u2018Geospatial_Coordinates.csv\u2019\n\n100%[======================================>] 2,891       --.-K/s   in 0s      \n\n2020-08-02 11:35:58 (250 MB/s) - \u2018Geospatial_Coordinates.csv\u2019 saved [2891/2891]\n\n"
                }
            ],
            "source": "!wget -O Geospatial_Coordinates.csv http://cocl.us/Geospatial_data/Geospatial_Coordinates.csv"
        },
        {
            "cell_type": "markdown",
            "metadata": {},
            "source": "Create a new Dataframe from csv"
        },
        {
            "cell_type": "code",
            "execution_count": 5,
            "metadata": {},
            "outputs": [
                {
                    "data": {
                        "text/html": "<div>\n<style scoped>\n    .dataframe tbody tr th:only-of-type {\n        vertical-align: middle;\n    }\n\n    .dataframe tbody tr th {\n        vertical-align: top;\n    }\n\n    .dataframe thead th {\n        text-align: right;\n    }\n</style>\n<table border=\"1\" class=\"dataframe\">\n  <thead>\n    <tr style=\"text-align: right;\">\n      <th></th>\n      <th>Postal Code</th>\n      <th>Latitude</th>\n      <th>Longitude</th>\n    </tr>\n  </thead>\n  <tbody>\n    <tr>\n      <th>0</th>\n      <td>M1B</td>\n      <td>43.806686</td>\n      <td>-79.194353</td>\n    </tr>\n    <tr>\n      <th>1</th>\n      <td>M1C</td>\n      <td>43.784535</td>\n      <td>-79.160497</td>\n    </tr>\n    <tr>\n      <th>2</th>\n      <td>M1E</td>\n      <td>43.763573</td>\n      <td>-79.188711</td>\n    </tr>\n    <tr>\n      <th>3</th>\n      <td>M1G</td>\n      <td>43.770992</td>\n      <td>-79.216917</td>\n    </tr>\n    <tr>\n      <th>4</th>\n      <td>M1H</td>\n      <td>43.773136</td>\n      <td>-79.239476</td>\n    </tr>\n  </tbody>\n</table>\n</div>",
                        "text/plain": "  Postal Code   Latitude  Longitude\n0         M1B  43.806686 -79.194353\n1         M1C  43.784535 -79.160497\n2         M1E  43.763573 -79.188711\n3         M1G  43.770992 -79.216917\n4         M1H  43.773136 -79.239476"
                    },
                    "execution_count": 5,
                    "metadata": {},
                    "output_type": "execute_result"
                }
            ],
            "source": "df_geo = pd.read_csv(\"Geospatial_Coordinates.csv\")\ndf_geo.head()"
        },
        {
            "cell_type": "markdown",
            "metadata": {},
            "source": "Merge the two datasets and append the old dataset with coordinates"
        },
        {
            "cell_type": "code",
            "execution_count": 17,
            "metadata": {},
            "outputs": [
                {
                    "data": {
                        "text/html": "<div>\n<style scoped>\n    .dataframe tbody tr th:only-of-type {\n        vertical-align: middle;\n    }\n\n    .dataframe tbody tr th {\n        vertical-align: top;\n    }\n\n    .dataframe thead th {\n        text-align: right;\n    }\n</style>\n<table border=\"1\" class=\"dataframe\">\n  <thead>\n    <tr style=\"text-align: right;\">\n      <th></th>\n      <th>Postal Code</th>\n      <th>Borough</th>\n      <th>Neighbourhood</th>\n      <th>Latitude</th>\n      <th>Longitude</th>\n    </tr>\n  </thead>\n  <tbody>\n    <tr>\n      <th>0</th>\n      <td>M3A</td>\n      <td>North York</td>\n      <td>Parkwoods</td>\n      <td>43.753259</td>\n      <td>-79.329656</td>\n    </tr>\n    <tr>\n      <th>1</th>\n      <td>M4A</td>\n      <td>North York</td>\n      <td>Victoria Village</td>\n      <td>43.725882</td>\n      <td>-79.315572</td>\n    </tr>\n    <tr>\n      <th>2</th>\n      <td>M5A</td>\n      <td>Downtown Toronto</td>\n      <td>Regent Park, Harbourfront</td>\n      <td>43.654260</td>\n      <td>-79.360636</td>\n    </tr>\n    <tr>\n      <th>3</th>\n      <td>M6A</td>\n      <td>North York</td>\n      <td>Lawrence Manor, Lawrence Heights</td>\n      <td>43.718518</td>\n      <td>-79.464763</td>\n    </tr>\n    <tr>\n      <th>4</th>\n      <td>M7A</td>\n      <td>Downtown Toronto</td>\n      <td>Queen's Park, Ontario Provincial Government</td>\n      <td>43.662301</td>\n      <td>-79.389494</td>\n    </tr>\n  </tbody>\n</table>\n</div>",
                        "text/plain": "  Postal Code           Borough                                Neighbourhood  \\\n0         M3A        North York                                    Parkwoods   \n1         M4A        North York                             Victoria Village   \n2         M5A  Downtown Toronto                    Regent Park, Harbourfront   \n3         M6A        North York             Lawrence Manor, Lawrence Heights   \n4         M7A  Downtown Toronto  Queen's Park, Ontario Provincial Government   \n\n    Latitude  Longitude  \n0  43.753259 -79.329656  \n1  43.725882 -79.315572  \n2  43.654260 -79.360636  \n3  43.718518 -79.464763  \n4  43.662301 -79.389494  "
                    },
                    "execution_count": 17,
                    "metadata": {},
                    "output_type": "execute_result"
                }
            ],
            "source": "df_bor_geo = pd.merge(df_bor, df_geo, on = \"Postal Code\", how = \"left\")\ndf_bor_geo.head()"
        },
        {
            "cell_type": "code",
            "execution_count": null,
            "metadata": {},
            "outputs": [],
            "source": ""
        }
    ],
    "metadata": {
        "kernelspec": {
            "display_name": "Python 3.6",
            "language": "python",
            "name": "python3"
        },
        "language_info": {
            "codemirror_mode": {
                "name": "ipython",
                "version": 3
            },
            "file_extension": ".py",
            "mimetype": "text/x-python",
            "name": "python",
            "nbconvert_exporter": "python",
            "pygments_lexer": "ipython3",
            "version": "3.6.9"
        }
    },
    "nbformat": 4,
    "nbformat_minor": 1
}